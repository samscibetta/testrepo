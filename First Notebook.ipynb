{
    "cells": [
        {
            "cell_type": "markdown",
            "metadata": {},
            "source": "This is a descriptor box in Markdown format"
        },
        {
            "cell_type": "code",
            "execution_count": 2,
            "metadata": {},
            "outputs": [
                {
                    "data": {
                        "text/html": "<div>\n<style scoped>\n    .dataframe tbody tr th:only-of-type {\n        vertical-align: middle;\n    }\n\n    .dataframe tbody tr th {\n        vertical-align: top;\n    }\n\n    .dataframe thead th {\n        text-align: right;\n    }\n</style>\n<table border=\"1\" class=\"dataframe\">\n  <thead>\n    <tr style=\"text-align: right;\">\n      <th></th>\n      <th>CheckingStatus</th>\n      <th>LoanDuration</th>\n      <th>CreditHistory</th>\n      <th>LoanPurpose</th>\n      <th>LoanAmount</th>\n      <th>ExistingSavings</th>\n      <th>EmploymentDuration</th>\n      <th>InstallmentPercent</th>\n      <th>Sex</th>\n      <th>OthersOnLoan</th>\n      <th>...</th>\n      <th>OwnsProperty</th>\n      <th>Age</th>\n      <th>InstallmentPlans</th>\n      <th>Housing</th>\n      <th>ExistingCreditsCount</th>\n      <th>Job</th>\n      <th>Dependents</th>\n      <th>Telephone</th>\n      <th>ForeignWorker</th>\n      <th>Risk</th>\n    </tr>\n  </thead>\n  <tbody>\n    <tr>\n      <th>0</th>\n      <td>0_to_200</td>\n      <td>31</td>\n      <td>credits_paid_to_date</td>\n      <td>other</td>\n      <td>1889</td>\n      <td>100_to_500</td>\n      <td>less_1</td>\n      <td>3</td>\n      <td>female</td>\n      <td>none</td>\n      <td>...</td>\n      <td>savings_insurance</td>\n      <td>32</td>\n      <td>none</td>\n      <td>own</td>\n      <td>1</td>\n      <td>skilled</td>\n      <td>1</td>\n      <td>none</td>\n      <td>yes</td>\n      <td>No Risk</td>\n    </tr>\n    <tr>\n      <th>1</th>\n      <td>less_0</td>\n      <td>18</td>\n      <td>credits_paid_to_date</td>\n      <td>car_new</td>\n      <td>462</td>\n      <td>less_100</td>\n      <td>1_to_4</td>\n      <td>2</td>\n      <td>female</td>\n      <td>none</td>\n      <td>...</td>\n      <td>savings_insurance</td>\n      <td>37</td>\n      <td>stores</td>\n      <td>own</td>\n      <td>2</td>\n      <td>skilled</td>\n      <td>1</td>\n      <td>none</td>\n      <td>yes</td>\n      <td>No Risk</td>\n    </tr>\n    <tr>\n      <th>2</th>\n      <td>less_0</td>\n      <td>15</td>\n      <td>prior_payments_delayed</td>\n      <td>furniture</td>\n      <td>250</td>\n      <td>less_100</td>\n      <td>1_to_4</td>\n      <td>2</td>\n      <td>male</td>\n      <td>none</td>\n      <td>...</td>\n      <td>real_estate</td>\n      <td>28</td>\n      <td>none</td>\n      <td>own</td>\n      <td>2</td>\n      <td>skilled</td>\n      <td>1</td>\n      <td>yes</td>\n      <td>no</td>\n      <td>No Risk</td>\n    </tr>\n    <tr>\n      <th>3</th>\n      <td>0_to_200</td>\n      <td>28</td>\n      <td>credits_paid_to_date</td>\n      <td>retraining</td>\n      <td>3693</td>\n      <td>less_100</td>\n      <td>greater_7</td>\n      <td>3</td>\n      <td>male</td>\n      <td>none</td>\n      <td>...</td>\n      <td>savings_insurance</td>\n      <td>32</td>\n      <td>none</td>\n      <td>own</td>\n      <td>1</td>\n      <td>skilled</td>\n      <td>1</td>\n      <td>none</td>\n      <td>yes</td>\n      <td>No Risk</td>\n    </tr>\n    <tr>\n      <th>4</th>\n      <td>no_checking</td>\n      <td>28</td>\n      <td>prior_payments_delayed</td>\n      <td>education</td>\n      <td>6235</td>\n      <td>500_to_1000</td>\n      <td>greater_7</td>\n      <td>3</td>\n      <td>male</td>\n      <td>none</td>\n      <td>...</td>\n      <td>unknown</td>\n      <td>57</td>\n      <td>none</td>\n      <td>own</td>\n      <td>2</td>\n      <td>skilled</td>\n      <td>1</td>\n      <td>none</td>\n      <td>yes</td>\n      <td>Risk</td>\n    </tr>\n  </tbody>\n</table>\n<p>5 rows \u00d7 21 columns</p>\n</div>",
                        "text/plain": "  CheckingStatus  LoanDuration           CreditHistory LoanPurpose  \\\n0       0_to_200            31    credits_paid_to_date       other   \n1         less_0            18    credits_paid_to_date     car_new   \n2         less_0            15  prior_payments_delayed   furniture   \n3       0_to_200            28    credits_paid_to_date  retraining   \n4    no_checking            28  prior_payments_delayed   education   \n\n   LoanAmount ExistingSavings EmploymentDuration  InstallmentPercent     Sex  \\\n0        1889      100_to_500             less_1                   3  female   \n1         462        less_100             1_to_4                   2  female   \n2         250        less_100             1_to_4                   2    male   \n3        3693        less_100          greater_7                   3    male   \n4        6235     500_to_1000          greater_7                   3    male   \n\n  OthersOnLoan  ...       OwnsProperty Age  InstallmentPlans Housing  \\\n0         none  ...  savings_insurance  32              none     own   \n1         none  ...  savings_insurance  37            stores     own   \n2         none  ...        real_estate  28              none     own   \n3         none  ...  savings_insurance  32              none     own   \n4         none  ...            unknown  57              none     own   \n\n  ExistingCreditsCount      Job Dependents  Telephone ForeignWorker     Risk  \n0                    1  skilled          1       none           yes  No Risk  \n1                    2  skilled          1       none           yes  No Risk  \n2                    2  skilled          1        yes            no  No Risk  \n3                    1  skilled          1       none           yes  No Risk  \n4                    2  skilled          1       none           yes     Risk  \n\n[5 rows x 21 columns]"
                    },
                    "execution_count": 2,
                    "metadata": {},
                    "output_type": "execute_result"
                }
            ],
            "source": "# The code was removed by Watson Studio for sharing."
        },
        {
            "cell_type": "code",
            "execution_count": null,
            "metadata": {},
            "outputs": [],
            "source": ""
        },
        {
            "cell_type": "code",
            "execution_count": null,
            "metadata": {},
            "outputs": [],
            "source": ""
        }
    ],
    "metadata": {
        "kernelspec": {
            "display_name": "Python 3.9",
            "language": "python",
            "name": "python3"
        },
        "language_info": {
            "codemirror_mode": {
                "name": "ipython",
                "version": 3
            },
            "file_extension": ".py",
            "mimetype": "text/x-python",
            "name": "python",
            "nbconvert_exporter": "python",
            "pygments_lexer": "ipython3",
            "version": "3.9.7"
        }
    },
    "nbformat": 4,
    "nbformat_minor": 1
}